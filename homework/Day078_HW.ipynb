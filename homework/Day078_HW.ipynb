{
 "cells": [
  {
   "cell_type": "markdown",
   "metadata": {},
   "source": [
    "## Work\n",
    "1. 請嘗試將 preproc_x 替換成以每筆資料的 min/max 進行標準化至 -1 ~ 1 間，再進行訓練\n",
    "2. 請嘗試將 mlp 疊更深 (e.g 5~10 層)，進行訓練後觀察 learning curve 的走勢\n",
    "3. (optional) 請改用 GPU 進行訓練 (如果你有 GPU 的話)，比較使用 CPU 與 GPU 的訓練速度"
   ]
  },
  {
   "cell_type": "code",
   "execution_count": 1,
   "metadata": {},
   "outputs": [
    {
     "data": {
      "text/plain": [
       "'\\nYour code here (optional)\\n確認硬體資源\\n'"
      ]
     },
     "execution_count": 1,
     "metadata": {},
     "output_type": "execute_result"
    }
   ],
   "source": [
    "## \n",
    "\"\"\"\n",
    "Your code here (optional)\n",
    "確認硬體資源\n",
    "\"\"\"\n"
   ]
  },
  {
   "cell_type": "code",
   "execution_count": 2,
   "metadata": {},
   "outputs": [
    {
     "name": "stderr",
     "output_type": "stream",
     "text": [
      "Using TensorFlow backend.\n"
     ]
    }
   ],
   "source": [
    "import os\n",
    "import keras\n",
    "\n",
    "# 請嘗試設定 GPU：os.environ\n",
    "os.environ[\"CUDA_VISIBLE_DEVICES\"] = \"\""
   ]
  },
  {
   "cell_type": "code",
   "execution_count": 3,
   "metadata": {},
   "outputs": [],
   "source": [
    "train, test = keras.datasets.cifar10.load_data()"
   ]
  },
  {
   "cell_type": "code",
   "execution_count": 4,
   "metadata": {},
   "outputs": [],
   "source": [
    "## 資料前處理\n",
    "\"\"\"\n",
    "Your code here\n",
    "\"\"\"\n",
    "def preproc_x(x, flatten=True):\n",
    "    x = x / 255. * 2. - 1.\n",
    "    if flatten:\n",
    "        x = x.reshape((len(x), -1))\n",
    "    return x\n",
    "\n",
    "def preproc_y(y, num_classes=10):\n",
    "    if y.shape[-1] == 1:\n",
    "        y = keras.utils.to_categorical(y, num_classes)\n",
    "    return y   "
   ]
  },
  {
   "cell_type": "code",
   "execution_count": 5,
   "metadata": {},
   "outputs": [],
   "source": [
    "x_train, y_train = train\n",
    "x_test, y_test = test\n",
    "\n",
    "# Preproc the inputs\n",
    "x_train = preproc_x(x_train)\n",
    "x_test = preproc_x(x_test)\n",
    "\n",
    "# Preprc the outputs\n",
    "y_train = preproc_y(y_train)\n",
    "y_test = preproc_y(y_test)"
   ]
  },
  {
   "cell_type": "code",
   "execution_count": 6,
   "metadata": {},
   "outputs": [
    {
     "name": "stdout",
     "output_type": "stream",
     "text": [
      "Model: \"model_1\"\n",
      "_________________________________________________________________\n",
      "Layer (type)                 Output Shape              Param #   \n",
      "=================================================================\n",
      "input_1 (InputLayer)         (None, 3072)              0         \n",
      "_________________________________________________________________\n",
      "hidden_layer1 (Dense)        (None, 512)               1573376   \n",
      "_________________________________________________________________\n",
      "hidden_layer2 (Dense)        (None, 512)               262656    \n",
      "_________________________________________________________________\n",
      "hidden_layer3 (Dense)        (None, 256)               131328    \n",
      "_________________________________________________________________\n",
      "hidden_layer4 (Dense)        (None, 256)               65792     \n",
      "_________________________________________________________________\n",
      "hidden_layer5 (Dense)        (None, 128)               32896     \n",
      "_________________________________________________________________\n",
      "hidden_layer6 (Dense)        (None, 128)               16512     \n",
      "_________________________________________________________________\n",
      "hidden_layer7 (Dense)        (None, 64)                8256      \n",
      "_________________________________________________________________\n",
      "hidden_layer8 (Dense)        (None, 64)                4160      \n",
      "_________________________________________________________________\n",
      "output (Dense)               (None, 10)                650       \n",
      "=================================================================\n",
      "Total params: 2,095,626\n",
      "Trainable params: 2,095,626\n",
      "Non-trainable params: 0\n",
      "_________________________________________________________________\n"
     ]
    }
   ],
   "source": [
    "\"\"\"Code Here\n",
    "建立你的神經網路\n",
    "\"\"\"\n",
    "def build_mlp(input_shape, output_units=10, num_neurons=[512, 512, 256, 256, 128, 128, 64, 64]):\n",
    "    input_layer = keras.layers.Input(input_shape)\n",
    "    \n",
    "    for i, n_units in enumerate(num_neurons):\n",
    "        if i == 0:\n",
    "            x = keras.layers.Dense(units=n_units, activation=\"relu\", name=\"hidden_layer\"+str(i+1))(input_layer)\n",
    "        else:\n",
    "            x = keras.layers.Dense(units=n_units, activation=\"relu\", name=\"hidden_layer\"+str(i+1))(x)\n",
    "    \n",
    "    out = keras.layers.Dense(units=output_units, activation=\"softmax\", name=\"output\")(x)\n",
    "    \n",
    "    model = keras.models.Model(inputs=[input_layer], outputs=[out])\n",
    "    return model\n",
    "\n",
    "model = build_mlp(input_shape=x_train.shape[1:])\n",
    "model.summary()"
   ]
  },
  {
   "cell_type": "code",
   "execution_count": 7,
   "metadata": {},
   "outputs": [],
   "source": [
    "## 超參數設定\n",
    "LEARNING_RATE = 0.001\n",
    "EPOCHS = 100\n",
    "BATCH_SIZE = 256"
   ]
  },
  {
   "cell_type": "code",
   "execution_count": 8,
   "metadata": {},
   "outputs": [],
   "source": [
    "optimizer = keras.optimizers.Adam(lr=LEARNING_RATE)\n",
    "model.compile(loss=\"categorical_crossentropy\", metrics=[\"accuracy\"], optimizer=optimizer)"
   ]
  },
  {
   "cell_type": "code",
   "execution_count": 9,
   "metadata": {},
   "outputs": [
    {
     "name": "stdout",
     "output_type": "stream",
     "text": [
      "Train on 50000 samples, validate on 10000 samples\n",
      "Epoch 1/100\n",
      "50000/50000 [==============================] - 12s 235us/step - loss: 1.7425 - accuracy: 0.3759 - val_loss: 1.5533 - val_accuracy: 0.4541\n",
      "Epoch 2/100\n",
      "50000/50000 [==============================] - 12s 231us/step - loss: 1.5045 - accuracy: 0.4679 - val_loss: 1.4596 - val_accuracy: 0.4886\n",
      "Epoch 3/100\n",
      "50000/50000 [==============================] - 12s 230us/step - loss: 1.3830 - accuracy: 0.5131 - val_loss: 1.4033 - val_accuracy: 0.5058\n",
      "Epoch 4/100\n",
      "50000/50000 [==============================] - 11s 228us/step - loss: 1.2821 - accuracy: 0.5486 - val_loss: 1.3733 - val_accuracy: 0.5193\n",
      "Epoch 5/100\n",
      "50000/50000 [==============================] - 11s 228us/step - loss: 1.1987 - accuracy: 0.5761 - val_loss: 1.3390 - val_accuracy: 0.5357\n",
      "Epoch 6/100\n",
      "50000/50000 [==============================] - 11s 227us/step - loss: 1.1149 - accuracy: 0.6051 - val_loss: 1.3532 - val_accuracy: 0.5268\n",
      "Epoch 7/100\n",
      "50000/50000 [==============================] - 11s 227us/step - loss: 1.0389 - accuracy: 0.6316 - val_loss: 1.3472 - val_accuracy: 0.5387\n",
      "Epoch 8/100\n",
      "50000/50000 [==============================] - 12s 230us/step - loss: 0.9561 - accuracy: 0.6608 - val_loss: 1.3519 - val_accuracy: 0.5471\n",
      "Epoch 9/100\n",
      "50000/50000 [==============================] - 11s 229us/step - loss: 0.8840 - accuracy: 0.6896 - val_loss: 1.3966 - val_accuracy: 0.5355\n",
      "Epoch 10/100\n",
      "50000/50000 [==============================] - 11s 230us/step - loss: 0.8130 - accuracy: 0.7135 - val_loss: 1.4055 - val_accuracy: 0.5521\n",
      "Epoch 11/100\n",
      "50000/50000 [==============================] - 12s 236us/step - loss: 0.7322 - accuracy: 0.7397 - val_loss: 1.4361 - val_accuracy: 0.5424\n",
      "Epoch 12/100\n",
      "50000/50000 [==============================] - 12s 233us/step - loss: 0.6665 - accuracy: 0.7606 - val_loss: 1.6073 - val_accuracy: 0.5414\n",
      "Epoch 13/100\n",
      "50000/50000 [==============================] - 12s 233us/step - loss: 0.6081 - accuracy: 0.7835 - val_loss: 1.6464 - val_accuracy: 0.5457\n",
      "Epoch 14/100\n",
      "50000/50000 [==============================] - 12s 232us/step - loss: 0.5558 - accuracy: 0.8020 - val_loss: 1.6629 - val_accuracy: 0.5450\n",
      "Epoch 15/100\n",
      "50000/50000 [==============================] - 12s 232us/step - loss: 0.4949 - accuracy: 0.8230 - val_loss: 1.7895 - val_accuracy: 0.5414\n",
      "Epoch 16/100\n",
      "50000/50000 [==============================] - 12s 234us/step - loss: 0.4561 - accuracy: 0.8382 - val_loss: 1.8995 - val_accuracy: 0.5391\n",
      "Epoch 17/100\n",
      "50000/50000 [==============================] - 12s 233us/step - loss: 0.4055 - accuracy: 0.8576 - val_loss: 2.0125 - val_accuracy: 0.5471\n",
      "Epoch 18/100\n",
      "50000/50000 [==============================] - 12s 235us/step - loss: 0.3713 - accuracy: 0.8677 - val_loss: 2.1220 - val_accuracy: 0.5451\n",
      "Epoch 19/100\n",
      "50000/50000 [==============================] - 12s 231us/step - loss: 0.3383 - accuracy: 0.8813 - val_loss: 2.1480 - val_accuracy: 0.5434\n",
      "Epoch 20/100\n",
      "50000/50000 [==============================] - 12s 234us/step - loss: 0.3190 - accuracy: 0.8892 - val_loss: 2.2225 - val_accuracy: 0.5436\n",
      "Epoch 21/100\n",
      "50000/50000 [==============================] - 12s 232us/step - loss: 0.2804 - accuracy: 0.9024 - val_loss: 2.3727 - val_accuracy: 0.5368\n",
      "Epoch 22/100\n",
      "50000/50000 [==============================] - 11s 229us/step - loss: 0.2728 - accuracy: 0.9050 - val_loss: 2.2836 - val_accuracy: 0.5374\n",
      "Epoch 23/100\n",
      "50000/50000 [==============================] - 12s 231us/step - loss: 0.2529 - accuracy: 0.9131 - val_loss: 2.4367 - val_accuracy: 0.5390\n",
      "Epoch 24/100\n",
      "50000/50000 [==============================] - 11s 228us/step - loss: 0.2322 - accuracy: 0.9195 - val_loss: 2.4572 - val_accuracy: 0.5410\n",
      "Epoch 25/100\n",
      "50000/50000 [==============================] - 11s 228us/step - loss: 0.2218 - accuracy: 0.9232 - val_loss: 2.5024 - val_accuracy: 0.5421\n",
      "Epoch 26/100\n",
      "50000/50000 [==============================] - 11s 229us/step - loss: 0.2001 - accuracy: 0.9321 - val_loss: 2.5565 - val_accuracy: 0.5446\n",
      "Epoch 27/100\n",
      "50000/50000 [==============================] - 11s 228us/step - loss: 0.1908 - accuracy: 0.9349 - val_loss: 2.6662 - val_accuracy: 0.5270\n",
      "Epoch 28/100\n",
      "50000/50000 [==============================] - 11s 224us/step - loss: 0.1885 - accuracy: 0.9348 - val_loss: 2.5551 - val_accuracy: 0.5404\n",
      "Epoch 29/100\n",
      "50000/50000 [==============================] - 12s 232us/step - loss: 0.1667 - accuracy: 0.9434 - val_loss: 2.5954 - val_accuracy: 0.5371\n",
      "Epoch 30/100\n",
      "50000/50000 [==============================] - 12s 231us/step - loss: 0.1660 - accuracy: 0.9436 - val_loss: 2.8714 - val_accuracy: 0.5387\n",
      "Epoch 31/100\n",
      "50000/50000 [==============================] - 12s 233us/step - loss: 0.1513 - accuracy: 0.9497 - val_loss: 2.9804 - val_accuracy: 0.5390\n",
      "Epoch 32/100\n",
      "50000/50000 [==============================] - 12s 235us/step - loss: 0.1522 - accuracy: 0.9482 - val_loss: 2.8249 - val_accuracy: 0.5362\n",
      "Epoch 33/100\n",
      "50000/50000 [==============================] - 12s 233us/step - loss: 0.1518 - accuracy: 0.9489 - val_loss: 2.7474 - val_accuracy: 0.5393\n",
      "Epoch 34/100\n",
      "50000/50000 [==============================] - 12s 231us/step - loss: 0.1324 - accuracy: 0.9552 - val_loss: 2.9604 - val_accuracy: 0.5390\n",
      "Epoch 35/100\n",
      "50000/50000 [==============================] - 12s 231us/step - loss: 0.1446 - accuracy: 0.9519 - val_loss: 2.8364 - val_accuracy: 0.5371\n",
      "Epoch 36/100\n",
      "50000/50000 [==============================] - 12s 233us/step - loss: 0.1360 - accuracy: 0.9545 - val_loss: 2.8695 - val_accuracy: 0.5387\n",
      "Epoch 37/100\n",
      "50000/50000 [==============================] - 11s 229us/step - loss: 0.1218 - accuracy: 0.9592 - val_loss: 3.0050 - val_accuracy: 0.5405\n",
      "Epoch 38/100\n",
      "50000/50000 [==============================] - 11s 225us/step - loss: 0.1150 - accuracy: 0.9619 - val_loss: 2.9725 - val_accuracy: 0.5358\n",
      "Epoch 39/100\n",
      "50000/50000 [==============================] - 11s 229us/step - loss: 0.1189 - accuracy: 0.9606 - val_loss: 2.9290 - val_accuracy: 0.5379\n",
      "Epoch 40/100\n",
      "50000/50000 [==============================] - 12s 233us/step - loss: 0.1151 - accuracy: 0.9612 - val_loss: 3.0046 - val_accuracy: 0.5381\n",
      "Epoch 41/100\n",
      "50000/50000 [==============================] - 12s 233us/step - loss: 0.1155 - accuracy: 0.9617 - val_loss: 3.1014 - val_accuracy: 0.5419\n",
      "Epoch 42/100\n",
      "50000/50000 [==============================] - 11s 230us/step - loss: 0.1149 - accuracy: 0.9626 - val_loss: 2.8591 - val_accuracy: 0.5383\n",
      "Epoch 43/100\n",
      "50000/50000 [==============================] - 12s 246us/step - loss: 0.1163 - accuracy: 0.9620 - val_loss: 3.0849 - val_accuracy: 0.5388\n",
      "Epoch 44/100\n",
      "50000/50000 [==============================] - 12s 234us/step - loss: 0.1096 - accuracy: 0.9639 - val_loss: 3.0668 - val_accuracy: 0.5399\n",
      "Epoch 45/100\n",
      "50000/50000 [==============================] - 12s 232us/step - loss: 0.1026 - accuracy: 0.9656 - val_loss: 3.0678 - val_accuracy: 0.5430\n",
      "Epoch 46/100\n",
      "50000/50000 [==============================] - 12s 232us/step - loss: 0.0926 - accuracy: 0.9703 - val_loss: 3.1423 - val_accuracy: 0.5413\n",
      "Epoch 47/100\n",
      "50000/50000 [==============================] - 12s 234us/step - loss: 0.0907 - accuracy: 0.9704 - val_loss: 3.1865 - val_accuracy: 0.5409\n",
      "Epoch 48/100\n",
      "50000/50000 [==============================] - 12s 231us/step - loss: 0.0982 - accuracy: 0.9687 - val_loss: 3.1615 - val_accuracy: 0.5418\n",
      "Epoch 49/100\n",
      "50000/50000 [==============================] - 12s 233us/step - loss: 0.0898 - accuracy: 0.9700 - val_loss: 3.1636 - val_accuracy: 0.5441\n",
      "Epoch 50/100\n",
      "50000/50000 [==============================] - 12s 232us/step - loss: 0.0929 - accuracy: 0.9695 - val_loss: 3.2471 - val_accuracy: 0.5370\n",
      "Epoch 51/100\n",
      "50000/50000 [==============================] - 12s 231us/step - loss: 0.0903 - accuracy: 0.9703 - val_loss: 3.2740 - val_accuracy: 0.5442\n",
      "Epoch 52/100\n",
      "50000/50000 [==============================] - 12s 230us/step - loss: 0.0872 - accuracy: 0.9714 - val_loss: 3.1603 - val_accuracy: 0.5422\n",
      "Epoch 53/100\n",
      "50000/50000 [==============================] - 11s 230us/step - loss: 0.0828 - accuracy: 0.9723 - val_loss: 3.1538 - val_accuracy: 0.5448\n",
      "Epoch 54/100\n",
      "50000/50000 [==============================] - 11s 227us/step - loss: 0.0898 - accuracy: 0.9706 - val_loss: 3.1635 - val_accuracy: 0.5431\n",
      "Epoch 55/100\n",
      "50000/50000 [==============================] - 12s 232us/step - loss: 0.0829 - accuracy: 0.9728 - val_loss: 3.2703 - val_accuracy: 0.5443\n",
      "Epoch 56/100\n",
      "50000/50000 [==============================] - 11s 230us/step - loss: 0.0899 - accuracy: 0.9711 - val_loss: 3.2223 - val_accuracy: 0.5409\n",
      "Epoch 57/100\n",
      "50000/50000 [==============================] - 12s 230us/step - loss: 0.0804 - accuracy: 0.9737 - val_loss: 3.3296 - val_accuracy: 0.5413\n",
      "Epoch 58/100\n",
      "50000/50000 [==============================] - 12s 232us/step - loss: 0.0780 - accuracy: 0.9743 - val_loss: 3.2675 - val_accuracy: 0.5336\n",
      "Epoch 59/100\n",
      "50000/50000 [==============================] - 12s 231us/step - loss: 0.0866 - accuracy: 0.9728 - val_loss: 3.1477 - val_accuracy: 0.5410\n",
      "Epoch 60/100\n",
      "50000/50000 [==============================] - 12s 233us/step - loss: 0.0768 - accuracy: 0.9749 - val_loss: 3.2097 - val_accuracy: 0.5393\n",
      "Epoch 61/100\n",
      "50000/50000 [==============================] - 12s 234us/step - loss: 0.0786 - accuracy: 0.9741 - val_loss: 3.2252 - val_accuracy: 0.5371\n",
      "Epoch 62/100\n",
      "50000/50000 [==============================] - 12s 232us/step - loss: 0.0740 - accuracy: 0.9758 - val_loss: 3.6128 - val_accuracy: 0.5377\n",
      "Epoch 63/100\n",
      "50000/50000 [==============================] - 12s 233us/step - loss: 0.0751 - accuracy: 0.9759 - val_loss: 3.1776 - val_accuracy: 0.5365\n",
      "Epoch 64/100\n",
      "50000/50000 [==============================] - 12s 232us/step - loss: 0.0730 - accuracy: 0.9766 - val_loss: 3.1621 - val_accuracy: 0.5419\n",
      "Epoch 65/100\n",
      "50000/50000 [==============================] - 12s 232us/step - loss: 0.0733 - accuracy: 0.9760 - val_loss: 3.3504 - val_accuracy: 0.5435\n",
      "Epoch 66/100\n",
      "50000/50000 [==============================] - 12s 235us/step - loss: 0.0697 - accuracy: 0.9780 - val_loss: 3.2250 - val_accuracy: 0.5409\n",
      "Epoch 67/100\n",
      "50000/50000 [==============================] - 12s 231us/step - loss: 0.0766 - accuracy: 0.9756 - val_loss: 3.2940 - val_accuracy: 0.5392\n",
      "Epoch 68/100\n",
      "50000/50000 [==============================] - 11s 229us/step - loss: 0.0665 - accuracy: 0.9787 - val_loss: 3.3483 - val_accuracy: 0.5375\n",
      "Epoch 69/100\n",
      "50000/50000 [==============================] - 12s 231us/step - loss: 0.0653 - accuracy: 0.9790 - val_loss: 3.3729 - val_accuracy: 0.5451\n",
      "Epoch 70/100\n",
      "50000/50000 [==============================] - 12s 235us/step - loss: 0.0664 - accuracy: 0.9781 - val_loss: 3.4550 - val_accuracy: 0.5480\n",
      "Epoch 71/100\n",
      "50000/50000 [==============================] - 12s 238us/step - loss: 0.0745 - accuracy: 0.9771 - val_loss: 3.2622 - val_accuracy: 0.5471\n",
      "Epoch 72/100\n",
      "50000/50000 [==============================] - 12s 231us/step - loss: 0.0672 - accuracy: 0.9786 - val_loss: 3.4108 - val_accuracy: 0.5437\n",
      "Epoch 73/100\n",
      "50000/50000 [==============================] - 12s 230us/step - loss: 0.0579 - accuracy: 0.9818 - val_loss: 3.3420 - val_accuracy: 0.5406\n",
      "Epoch 74/100\n",
      "50000/50000 [==============================] - 11s 230us/step - loss: 0.0626 - accuracy: 0.9798 - val_loss: 3.3406 - val_accuracy: 0.5405\n",
      "Epoch 75/100\n",
      "50000/50000 [==============================] - 11s 229us/step - loss: 0.0650 - accuracy: 0.9796 - val_loss: 3.4060 - val_accuracy: 0.5364\n",
      "Epoch 76/100\n",
      "50000/50000 [==============================] - 12s 234us/step - loss: 0.0587 - accuracy: 0.9811 - val_loss: 3.6969 - val_accuracy: 0.5416\n",
      "Epoch 77/100\n",
      "50000/50000 [==============================] - 12s 231us/step - loss: 0.0576 - accuracy: 0.9818 - val_loss: 3.6215 - val_accuracy: 0.5369\n",
      "Epoch 78/100\n",
      "50000/50000 [==============================] - 12s 231us/step - loss: 0.0634 - accuracy: 0.9798 - val_loss: 3.3029 - val_accuracy: 0.5425\n",
      "Epoch 79/100\n",
      "50000/50000 [==============================] - 12s 233us/step - loss: 0.0660 - accuracy: 0.9785 - val_loss: 3.3011 - val_accuracy: 0.5359\n",
      "Epoch 80/100\n",
      "50000/50000 [==============================] - 12s 234us/step - loss: 0.0520 - accuracy: 0.9831 - val_loss: 3.4750 - val_accuracy: 0.5366\n",
      "Epoch 81/100\n",
      "50000/50000 [==============================] - 12s 233us/step - loss: 0.0637 - accuracy: 0.9797 - val_loss: 3.3594 - val_accuracy: 0.5455\n",
      "Epoch 82/100\n",
      "50000/50000 [==============================] - 12s 235us/step - loss: 0.0534 - accuracy: 0.9832 - val_loss: 3.5799 - val_accuracy: 0.5389\n",
      "Epoch 83/100\n",
      "50000/50000 [==============================] - 11s 229us/step - loss: 0.0493 - accuracy: 0.9842 - val_loss: 3.5815 - val_accuracy: 0.5357\n",
      "Epoch 84/100\n",
      "50000/50000 [==============================] - 11s 226us/step - loss: 0.0611 - accuracy: 0.9806 - val_loss: 3.4447 - val_accuracy: 0.5388\n",
      "Epoch 85/100\n",
      "50000/50000 [==============================] - 11s 227us/step - loss: 0.0625 - accuracy: 0.9806 - val_loss: 3.4454 - val_accuracy: 0.5396\n",
      "Epoch 86/100\n",
      "50000/50000 [==============================] - 11s 228us/step - loss: 0.0640 - accuracy: 0.9809 - val_loss: 3.5216 - val_accuracy: 0.5394\n",
      "Epoch 87/100\n",
      "50000/50000 [==============================] - 12s 231us/step - loss: 0.0604 - accuracy: 0.9810 - val_loss: 3.4012 - val_accuracy: 0.5475\n",
      "Epoch 88/100\n",
      "50000/50000 [==============================] - 11s 226us/step - loss: 0.0499 - accuracy: 0.9842 - val_loss: 3.5239 - val_accuracy: 0.5413\n",
      "Epoch 89/100\n",
      "50000/50000 [==============================] - 12s 232us/step - loss: 0.0475 - accuracy: 0.9856 - val_loss: 3.8433 - val_accuracy: 0.5400\n",
      "Epoch 90/100\n",
      "50000/50000 [==============================] - 12s 231us/step - loss: 0.0541 - accuracy: 0.9832 - val_loss: 3.4858 - val_accuracy: 0.5387\n",
      "Epoch 91/100\n",
      "50000/50000 [==============================] - 12s 231us/step - loss: 0.0642 - accuracy: 0.9800 - val_loss: 3.6233 - val_accuracy: 0.5439\n",
      "Epoch 92/100\n",
      "50000/50000 [==============================] - 12s 231us/step - loss: 0.0534 - accuracy: 0.9835 - val_loss: 3.7855 - val_accuracy: 0.5407\n",
      "Epoch 93/100\n",
      "50000/50000 [==============================] - 12s 235us/step - loss: 0.0510 - accuracy: 0.9841 - val_loss: 3.5805 - val_accuracy: 0.5303\n",
      "Epoch 94/100\n",
      "50000/50000 [==============================] - 12s 232us/step - loss: 0.0537 - accuracy: 0.9828 - val_loss: 3.4299 - val_accuracy: 0.5383\n",
      "Epoch 95/100\n",
      "50000/50000 [==============================] - 12s 231us/step - loss: 0.0568 - accuracy: 0.9832 - val_loss: 3.6066 - val_accuracy: 0.5385\n",
      "Epoch 96/100\n",
      "50000/50000 [==============================] - 11s 229us/step - loss: 0.0529 - accuracy: 0.9836 - val_loss: 3.5046 - val_accuracy: 0.5371\n",
      "Epoch 97/100\n",
      "50000/50000 [==============================] - 12s 232us/step - loss: 0.0599 - accuracy: 0.9820 - val_loss: 3.6049 - val_accuracy: 0.5403\n",
      "Epoch 98/100\n",
      "50000/50000 [==============================] - 12s 232us/step - loss: 0.0467 - accuracy: 0.9853 - val_loss: 3.5460 - val_accuracy: 0.5367\n",
      "Epoch 99/100\n",
      "50000/50000 [==============================] - 11s 229us/step - loss: 0.0518 - accuracy: 0.9839 - val_loss: 3.4147 - val_accuracy: 0.5396\n",
      "Epoch 100/100\n",
      "50000/50000 [==============================] - 12s 232us/step - loss: 0.0456 - accuracy: 0.9863 - val_loss: 3.6890 - val_accuracy: 0.5360\n"
     ]
    },
    {
     "data": {
      "text/plain": [
       "<keras.callbacks.callbacks.History at 0x1c38f080>"
      ]
     },
     "execution_count": 9,
     "metadata": {},
     "output_type": "execute_result"
    }
   ],
   "source": [
    "model.fit(x_train, y_train, \n",
    "          epochs=EPOCHS, \n",
    "          batch_size=BATCH_SIZE, \n",
    "          validation_data=(x_test, y_test), \n",
    "          shuffle=True)"
   ]
  },
  {
   "cell_type": "code",
   "execution_count": 10,
   "metadata": {},
   "outputs": [
    {
     "data": {
      "image/png": "[encoded data removed]",
      "text/plain": [
       "<Figure size 432x288 with 1 Axes>"
      ]
     },
     "metadata": {
      "needs_background": "light"
     },
     "output_type": "display_data"
    },
    {
     "data": {
      "image/png": "[encoded data removed]",
      "text/plain": [
       "<Figure size 432x288 with 1 Axes>"
      ]
     },
     "metadata": {
      "needs_background": "light"
     },
     "output_type": "display_data"
    }
   ],
   "source": [
    "import matplotlib.pyplot as plt\n",
    "%matplotlib inline\n",
    "\n",
    "train_loss = model.history.history[\"loss\"]\n",
    "valid_loss = model.history.history[\"val_loss\"]\n",
    "\n",
    "train_acc = model.history.history[\"accuracy\"]\n",
    "valid_acc = model.history.history[\"val_accuracy\"]\n",
    "\n",
    "plt.plot(range(len(train_loss)), train_loss, label=\"train loss\")\n",
    "plt.plot(range(len(valid_loss)), valid_loss, label=\"valid loss\")\n",
    "plt.legend()\n",
    "plt.title(\"Loss\")\n",
    "plt.show()\n",
    "\n",
    "plt.plot(range(len(train_acc)), train_acc, label=\"train accuracy\")\n",
    "plt.plot(range(len(valid_acc)), valid_acc, label=\"valid accuracy\")\n",
    "plt.legend()\n",
    "plt.title(\"Accuracy\")\n",
    "plt.show()"
   ]
  }
 ],
 "metadata": {
  "kernelspec": {
   "display_name": "Python 3",
   "language": "python",
   "name": "python3"
  },
  "language_info": {
   "codemirror_mode": {
    "name": "ipython",
    "version": 3
   },
   "file_extension": ".py",
   "mimetype": "text/x-python",
   "name": "python",
   "nbconvert_exporter": "python",
   "pygments_lexer": "ipython3",
   "version": "3.7.3"
  }
 },
 "nbformat": 4,
 "nbformat_minor": 2
}
