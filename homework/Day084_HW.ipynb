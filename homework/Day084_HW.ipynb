{
 "cells": [
  {
   "cell_type": "markdown",
   "metadata": {},
   "source": [
    "## Work\n",
    "### 請結合前面的知識與程式碼，比較不同的 regularization 的組合對訓練的結果與影響：如 dropout, regularizers, batch-normalization 等"
   ]
  },
  {
   "cell_type": "code",
   "execution_count": 1,
   "metadata": {},
   "outputs": [
    {
     "name": "stderr",
     "output_type": "stream",
     "text": [
      "Using TensorFlow backend.\n"
     ]
    }
   ],
   "source": [
    "import os\n",
    "import keras\n",
    "import itertools\n",
    "# Disable GPU\n",
    "os.environ[\"CUDA_VISIBLE_DEVICES\"] = \"\""
   ]
  },
  {
   "cell_type": "code",
   "execution_count": 2,
   "metadata": {},
   "outputs": [],
   "source": [
    "train, test = keras.datasets.cifar10.load_data()"
   ]
  },
  {
   "cell_type": "code",
   "execution_count": 3,
   "metadata": {},
   "outputs": [],
   "source": [
    "## 資料前處理\n",
    "def preproc_x(x, flatten=True):\n",
    "    x = x / 255.\n",
    "    if flatten:\n",
    "        x = x.reshape((len(x), -1))\n",
    "    return x\n",
    "\n",
    "def preproc_y(y, num_classes=10):\n",
    "    if y.shape[-1] == 1:\n",
    "        y = keras.utils.to_categorical(y, num_classes)\n",
    "    return y    "
   ]
  },
  {
   "cell_type": "code",
   "execution_count": 4,
   "metadata": {},
   "outputs": [],
   "source": [
    "x_train, y_train = train\n",
    "x_test, y_test = test\n",
    "\n",
    "# Preproc the inputs\n",
    "x_train = preproc_x(x_train)\n",
    "x_test = preproc_x(x_test)\n",
    "\n",
    "# Preprc the outputs\n",
    "y_train = preproc_y(y_train)\n",
    "y_test = preproc_y(y_test)"
   ]
  },
  {
   "cell_type": "code",
   "execution_count": 5,
   "metadata": {},
   "outputs": [],
   "source": [
    "from keras.layers import Dropout, BatchNormalization\n",
    "from keras.regularizers import l2\n",
    "\n",
    "\n",
    "def build_mlp(input_shape, output_units=10, num_neurons=[512, 256, 128], drp_ratio=0.2, l2_ratio=1e-4):\n",
    "    \"\"\"Code Here\n",
    "    建立你的神經網路\n",
    "    \"\"\"\n",
    "    input_layer = keras.layers.Input(input_shape)\n",
    "    x = BatchNormalization()(input_layer)\n",
    "    \n",
    "    for i, n_units in enumerate(num_neurons):\n",
    "        if i == 0:\n",
    "            x = keras.layers.Dense(units=n_units, \n",
    "                                   activation=\"relu\", \n",
    "                                   name=\"hidden_layer\"+str(i+1), \n",
    "                                   kernel_regularizer=l2(l2_ratio))(input_layer)\n",
    "            x = Dropout(drp_ratio)(x)\n",
    "        else:\n",
    "            x = keras.layers.Dense(units=n_units, \n",
    "                                   activation=\"relu\", \n",
    "                                   name=\"hidden_layer\"+str(i+1), \n",
    "                                   kernel_regularizer=l2(l2_ratio))(x)\n",
    "            x = Dropout(drp_ratio)(x)\n",
    "    \n",
    "    out = keras.layers.Dense(units=output_units, activation=\"softmax\", name=\"output\")(x)\n",
    "    \n",
    "    model = keras.models.Model(inputs=[input_layer], outputs=[out])\n",
    "    return model"
   ]
  },
  {
   "cell_type": "code",
   "execution_count": 6,
   "metadata": {},
   "outputs": [],
   "source": [
    "\"\"\"Code Here\n",
    "設定超參數\n",
    "\"\"\"\n",
    "LEARNING_RATE = 1e-4\n",
    "EPOCHS = 50\n",
    "BATCH_SIZE = 256\n",
    "MOMENTUM = 0.95\n",
    "Dropout_EXP = 0.1\n",
    "L2_EXP = 1e-12"
   ]
  },
  {
   "cell_type": "code",
   "execution_count": 7,
   "metadata": {
    "scrolled": true
   },
   "outputs": [
    {
     "name": "stdout",
     "output_type": "stream",
     "text": [
      "Model: \"model_1\"\n",
      "_________________________________________________________________\n",
      "Layer (type)                 Output Shape              Param #   \n",
      "=================================================================\n",
      "input_1 (InputLayer)         (None, 3072)              0         \n",
      "_________________________________________________________________\n",
      "hidden_layer1 (Dense)        (None, 512)               1573376   \n",
      "_________________________________________________________________\n",
      "dropout_1 (Dropout)          (None, 512)               0         \n",
      "_________________________________________________________________\n",
      "hidden_layer2 (Dense)        (None, 256)               131328    \n",
      "_________________________________________________________________\n",
      "dropout_2 (Dropout)          (None, 256)               0         \n",
      "_________________________________________________________________\n",
      "hidden_layer3 (Dense)        (None, 128)               32896     \n",
      "_________________________________________________________________\n",
      "dropout_3 (Dropout)          (None, 128)               0         \n",
      "_________________________________________________________________\n",
      "output (Dense)               (None, 10)                1290      \n",
      "=================================================================\n",
      "Total params: 1,738,890\n",
      "Trainable params: 1,738,890\n",
      "Non-trainable params: 0\n",
      "_________________________________________________________________\n",
      "Train on 50000 samples, validate on 10000 samples\n",
      "Epoch 1/50\n",
      "50000/50000 [==============================] - 10s 196us/step - loss: 1.9971 - accuracy: 0.2743 - val_loss: 1.8108 - val_accuracy: 0.3533\n",
      "Epoch 2/50\n",
      "50000/50000 [==============================] - 10s 204us/step - loss: 1.8041 - accuracy: 0.3540 - val_loss: 1.7070 - val_accuracy: 0.4062\n",
      "Epoch 3/50\n",
      "50000/50000 [==============================] - 9s 187us/step - loss: 1.7159 - accuracy: 0.3843 - val_loss: 1.6354 - val_accuracy: 0.4209\n",
      "Epoch 4/50\n",
      "50000/50000 [==============================] - 9s 187us/step - loss: 1.6593 - accuracy: 0.4104 - val_loss: 1.5822 - val_accuracy: 0.4375\n",
      "Epoch 5/50\n",
      "50000/50000 [==============================] - 9s 183us/step - loss: 1.6134 - accuracy: 0.4230 - val_loss: 1.5390 - val_accuracy: 0.4514\n",
      "Epoch 6/50\n",
      "50000/50000 [==============================] - 9s 186us/step - loss: 1.5726 - accuracy: 0.4408 - val_loss: 1.5186 - val_accuracy: 0.4624\n",
      "Epoch 7/50\n",
      "50000/50000 [==============================] - 9s 182us/step - loss: 1.5426 - accuracy: 0.4510 - val_loss: 1.5155 - val_accuracy: 0.4658\n",
      "Epoch 8/50\n",
      "50000/50000 [==============================] - 9s 181us/step - loss: 1.5143 - accuracy: 0.4603 - val_loss: 1.4886 - val_accuracy: 0.4733\n",
      "Epoch 9/50\n",
      "50000/50000 [==============================] - 9s 182us/step - loss: 1.4863 - accuracy: 0.4713 - val_loss: 1.4549 - val_accuracy: 0.4794\n",
      "Epoch 10/50\n",
      "50000/50000 [==============================] - 9s 184us/step - loss: 1.4645 - accuracy: 0.4812 - val_loss: 1.4549 - val_accuracy: 0.4835\n",
      "Epoch 11/50\n",
      "50000/50000 [==============================] - 9s 183us/step - loss: 1.4471 - accuracy: 0.4870 - val_loss: 1.4312 - val_accuracy: 0.4912\n",
      "Epoch 12/50\n",
      "50000/50000 [==============================] - 9s 183us/step - loss: 1.4219 - accuracy: 0.4953 - val_loss: 1.4115 - val_accuracy: 0.4955\n",
      "Epoch 13/50\n",
      "50000/50000 [==============================] - 9s 182us/step - loss: 1.4057 - accuracy: 0.4985 - val_loss: 1.3939 - val_accuracy: 0.5037\n",
      "Epoch 14/50\n",
      "50000/50000 [==============================] - 9s 181us/step - loss: 1.3910 - accuracy: 0.5059 - val_loss: 1.3876 - val_accuracy: 0.5050\n",
      "Epoch 15/50\n",
      "50000/50000 [==============================] - 9s 181us/step - loss: 1.3743 - accuracy: 0.5134 - val_loss: 1.3674 - val_accuracy: 0.5173\n",
      "Epoch 16/50\n",
      "50000/50000 [==============================] - 9s 184us/step - loss: 1.3556 - accuracy: 0.5169 - val_loss: 1.3655 - val_accuracy: 0.5158\n",
      "Epoch 17/50\n",
      "50000/50000 [==============================] - 9s 182us/step - loss: 1.3394 - accuracy: 0.5247 - val_loss: 1.3738 - val_accuracy: 0.5083\n",
      "Epoch 18/50\n",
      "50000/50000 [==============================] - 9s 182us/step - loss: 1.3225 - accuracy: 0.5290 - val_loss: 1.3489 - val_accuracy: 0.5195\n",
      "Epoch 19/50\n",
      "50000/50000 [==============================] - 9s 182us/step - loss: 1.3150 - accuracy: 0.5326 - val_loss: 1.3536 - val_accuracy: 0.5168\n",
      "Epoch 20/50\n",
      "50000/50000 [==============================] - 9s 182us/step - loss: 1.3026 - accuracy: 0.5399 - val_loss: 1.3491 - val_accuracy: 0.5186\n",
      "Epoch 21/50\n",
      "50000/50000 [==============================] - 9s 181us/step - loss: 1.2852 - accuracy: 0.5445 - val_loss: 1.3341 - val_accuracy: 0.5276\n",
      "Epoch 22/50\n",
      "50000/50000 [==============================] - 9s 181us/step - loss: 1.2715 - accuracy: 0.5511 - val_loss: 1.3244 - val_accuracy: 0.5277\n",
      "Epoch 23/50\n",
      "50000/50000 [==============================] - 9s 182us/step - loss: 1.2540 - accuracy: 0.5554 - val_loss: 1.3427 - val_accuracy: 0.5232\n",
      "Epoch 24/50\n",
      "50000/50000 [==============================] - 9s 181us/step - loss: 1.2490 - accuracy: 0.5588 - val_loss: 1.3235 - val_accuracy: 0.5286\n",
      "Epoch 25/50\n",
      "50000/50000 [==============================] - 9s 182us/step - loss: 1.2310 - accuracy: 0.5677 - val_loss: 1.3218 - val_accuracy: 0.5324\n",
      "Epoch 26/50\n",
      "50000/50000 [==============================] - 9s 182us/step - loss: 1.2277 - accuracy: 0.5661 - val_loss: 1.3092 - val_accuracy: 0.5304\n",
      "Epoch 27/50\n",
      "50000/50000 [==============================] - 9s 181us/step - loss: 1.2036 - accuracy: 0.5711 - val_loss: 1.3351 - val_accuracy: 0.5229\n",
      "Epoch 28/50\n",
      "50000/50000 [==============================] - 9s 182us/step - loss: 1.1931 - accuracy: 0.5771 - val_loss: 1.3028 - val_accuracy: 0.5367\n",
      "Epoch 29/50\n",
      "50000/50000 [==============================] - 9s 182us/step - loss: 1.1830 - accuracy: 0.5820 - val_loss: 1.2920 - val_accuracy: 0.5418\n",
      "Epoch 30/50\n",
      "50000/50000 [==============================] - 9s 182us/step - loss: 1.1695 - accuracy: 0.5822 - val_loss: 1.3011 - val_accuracy: 0.5316\n",
      "Epoch 31/50\n",
      "50000/50000 [==============================] - 9s 182us/step - loss: 1.1601 - accuracy: 0.5878 - val_loss: 1.3029 - val_accuracy: 0.5360\n",
      "Epoch 32/50\n",
      "50000/50000 [==============================] - 9s 189us/step - loss: 1.1551 - accuracy: 0.5887 - val_loss: 1.2943 - val_accuracy: 0.5406\n",
      "Epoch 33/50\n",
      "50000/50000 [==============================] - 9s 182us/step - loss: 1.1392 - accuracy: 0.5947 - val_loss: 1.2799 - val_accuracy: 0.5464\n",
      "Epoch 34/50\n",
      "50000/50000 [==============================] - 9s 182us/step - loss: 1.1267 - accuracy: 0.5995 - val_loss: 1.2935 - val_accuracy: 0.5376\n",
      "Epoch 35/50\n",
      "50000/50000 [==============================] - 9s 181us/step - loss: 1.1157 - accuracy: 0.6029 - val_loss: 1.2765 - val_accuracy: 0.5463\n",
      "Epoch 36/50\n",
      "50000/50000 [==============================] - 9s 182us/step - loss: 1.1043 - accuracy: 0.6074 - val_loss: 1.2847 - val_accuracy: 0.5457\n",
      "Epoch 37/50\n",
      "50000/50000 [==============================] - 9s 182us/step - loss: 1.0949 - accuracy: 0.6112 - val_loss: 1.2955 - val_accuracy: 0.5380\n",
      "Epoch 38/50\n",
      "50000/50000 [==============================] - 9s 182us/step - loss: 1.0868 - accuracy: 0.6166 - val_loss: 1.2736 - val_accuracy: 0.5443\n",
      "Epoch 39/50\n",
      "50000/50000 [==============================] - 9s 182us/step - loss: 1.0730 - accuracy: 0.6196 - val_loss: 1.2944 - val_accuracy: 0.5380\n",
      "Epoch 40/50\n",
      "50000/50000 [==============================] - 9s 181us/step - loss: 1.0663 - accuracy: 0.6216 - val_loss: 1.2680 - val_accuracy: 0.5515\n",
      "Epoch 41/50\n",
      "50000/50000 [==============================] - 9s 181us/step - loss: 1.0544 - accuracy: 0.6281 - val_loss: 1.3339 - val_accuracy: 0.5361\n",
      "Epoch 42/50\n",
      "50000/50000 [==============================] - 9s 182us/step - loss: 1.0481 - accuracy: 0.6283 - val_loss: 1.2699 - val_accuracy: 0.5484\n",
      "Epoch 43/50\n",
      "50000/50000 [==============================] - 9s 182us/step - loss: 1.0370 - accuracy: 0.6311 - val_loss: 1.2816 - val_accuracy: 0.5460\n",
      "Epoch 44/50\n",
      "50000/50000 [==============================] - 9s 181us/step - loss: 1.0317 - accuracy: 0.6351 - val_loss: 1.2858 - val_accuracy: 0.5484\n",
      "Epoch 45/50\n",
      "50000/50000 [==============================] - 9s 182us/step - loss: 1.0191 - accuracy: 0.6387 - val_loss: 1.2802 - val_accuracy: 0.5512\n",
      "Epoch 46/50\n",
      "50000/50000 [==============================] - 9s 182us/step - loss: 1.0082 - accuracy: 0.6413 - val_loss: 1.2705 - val_accuracy: 0.5540\n",
      "Epoch 47/50\n",
      "50000/50000 [==============================] - 9s 182us/step - loss: 1.0041 - accuracy: 0.6443 - val_loss: 1.2902 - val_accuracy: 0.5506\n",
      "Epoch 48/50\n",
      "50000/50000 [==============================] - 9s 181us/step - loss: 0.9887 - accuracy: 0.6514 - val_loss: 1.2814 - val_accuracy: 0.5458\n",
      "Epoch 49/50\n",
      "50000/50000 [==============================] - 9s 182us/step - loss: 0.9810 - accuracy: 0.6520 - val_loss: 1.2697 - val_accuracy: 0.5575\n",
      "Epoch 50/50\n",
      "50000/50000 [==============================] - 9s 189us/step - loss: 0.9694 - accuracy: 0.6563 - val_loss: 1.2836 - val_accuracy: 0.5496\n"
     ]
    }
   ],
   "source": [
    "results = {}\n",
    "\"\"\"Code Here\n",
    "撰寫你的訓練流程並將結果用 dictionary 紀錄\n",
    "\"\"\"\n",
    "model = build_mlp(input_shape=x_train.shape[1:], drp_ratio=Dropout_EXP, l2_ratio=L2_EXP)\n",
    "model.summary()\n",
    "optimizer = keras.optimizers.Adam(lr=LEARNING_RATE)\n",
    "model.compile(loss=\"categorical_crossentropy\", metrics=[\"accuracy\"], optimizer=optimizer)\n",
    "\n",
    "model.fit(x_train, y_train, \n",
    "          epochs=EPOCHS, \n",
    "          batch_size=BATCH_SIZE, \n",
    "          validation_data=(x_test, y_test), \n",
    "          shuffle=True)\n",
    "\n",
    "# Collect results\n",
    "train_loss = model.history.history[\"loss\"]\n",
    "valid_loss = model.history.history[\"val_loss\"]\n",
    "train_acc = model.history.history[\"accuracy\"]\n",
    "valid_acc = model.history.history[\"val_accuracy\"]"
   ]
  },
  {
   "cell_type": "code",
   "execution_count": 8,
   "metadata": {},
   "outputs": [
    {
     "data": {
      "image/png": "[encoded data removed]",
      "text/plain": [
       "<Figure size 432x288 with 1 Axes>"
      ]
     },
     "metadata": {
      "needs_background": "light"
     },
     "output_type": "display_data"
    },
    {
     "data": {
      "image/png": "[encoded data removed]",
      "text/plain": [
       "<Figure size 432x288 with 1 Axes>"
      ]
     },
     "metadata": {
      "needs_background": "light"
     },
     "output_type": "display_data"
    }
   ],
   "source": [
    "import matplotlib.pyplot as plt\n",
    "%matplotlib inline\n",
    "\"\"\"Code Here\n",
    "將結果繪出\n",
    "\"\"\"\n",
    "import matplotlib.pyplot as plt\n",
    "%matplotlib inline\n",
    "\n",
    "plt.plot(range(len(train_loss)), train_loss, label=\"train loss\")\n",
    "plt.plot(range(len(valid_loss)), valid_loss, label=\"valid loss\")\n",
    "plt.legend()\n",
    "plt.title(\"Loss\")\n",
    "plt.show()\n",
    "\n",
    "plt.plot(range(len(train_acc)), train_acc, label=\"train accuracy\")\n",
    "plt.plot(range(len(valid_acc)), valid_acc, label=\"valid accuracy\")\n",
    "plt.legend()\n",
    "plt.title(\"Accuracy\")\n",
    "plt.show()"
   ]
  }
 ],
 "metadata": {
  "kernelspec": {
   "display_name": "Python 3",
   "language": "python",
   "name": "python3"
  },
  "language_info": {
   "codemirror_mode": {
    "name": "ipython",
    "version": 3
   },
   "file_extension": ".py",
   "mimetype": "text/x-python",
   "name": "python",
   "nbconvert_exporter": "python",
   "pygments_lexer": "ipython3",
   "version": "3.7.3"
  }
 },
 "nbformat": 4,
 "nbformat_minor": 2
}
